{
 "metadata": {
  "language_info": {
   "codemirror_mode": {
    "name": "ipython",
    "version": 3
   },
   "file_extension": ".py",
   "mimetype": "text/x-python",
   "name": "python",
   "nbconvert_exporter": "python",
   "pygments_lexer": "ipython3",
   "version": "3.8.5"
  },
  "orig_nbformat": 2,
  "kernelspec": {
   "name": "python385jvsc74a57bd02db524e06e9f5f4ffedc911c917cb75e12dbc923643829bf417064a77eb14d37",
   "display_name": "Python 3.8.5 32-bit"
  },
  "metadata": {
   "interpreter": {
    "hash": "2db524e06e9f5f4ffedc911c917cb75e12dbc923643829bf417064a77eb14d37"
   }
  }
 },
 "nbformat": 4,
 "nbformat_minor": 2,
 "cells": [
  {
   "cell_type": "code",
   "execution_count": 1,
   "metadata": {},
   "outputs": [],
   "source": [
    "import numpy as np\n",
    "import matplotlib.pyplot as plt\n",
    "from scipy.fftpack import fft, ifft, fftshift, fftfreq, rfft, irfft\n",
    "from scipy import signal\n",
    "from scipy.io import wavfile"
   ]
  },
  {
   "cell_type": "code",
   "execution_count": 6,
   "metadata": {
    "tags": []
   },
   "outputs": [
    {
     "output_type": "stream",
     "name": "stdout",
     "text": [
      "File 1: audio_input/602msTo702ms_8bit_48k.wav\nFile 2: audio_input/600msTo700ms_8bit_48k.wav\nTimeshift: 0.0021249999999999997\nWall time: 2.01 ms\n"
     ]
    }
   ],
   "source": [
    "def calcShift(file1, file2):\n",
    "    samplerate_y, y = wavfile.read(file1)\n",
    "    samplerate_y2, y2 = wavfile.read(file2)\n",
    "\n",
    "    dt = (1/samplerate_y)\n",
    "    n = len(y)\n",
    "    lengthY = (1/samplerate_y) * len(y)\n",
    "    freq = fftfreq(n, dt)\n",
    "    y = y * np.hamming(n)\n",
    "    y2 = y2 * np.hamming(n)\n",
    "\n",
    "    Y = fft(y)\n",
    "    Y2 = fft(y2)\n",
    "\n",
    "    Yr = Y.conjugate() \n",
    "    Y2r = Y2.conjugate() \n",
    "    # Convolute the signals.\n",
    "    conv = Yr*Y2r\n",
    "    # Inverse FFT to convert to time domain.\n",
    "    iffconv = ifft(conv)\n",
    "    # Calculate time pr sample\n",
    "    timePrIndex = 1/samplerate_y\n",
    "    # Calculate the time shift: Find the index with the highest area overlap of the signals\n",
    "    maxAreaIndex = np.argmax(np.abs(iffconv))\n",
    "\n",
    "    m2timeShift = (maxAreaIndex * timePrIndex)\n",
    "    print(\"File 1: \" + file1)\n",
    "    print(\"File 2: \" + file2)\n",
    "    print(\"Timeshift: \" + str(m2timeShift))\n",
    "\n",
    "%time calcShift('audio_input/602msTo702ms_8bit_48k.wav','audio_input/600msTo700ms_8bit_48k.wav')"
   ]
  },
  {
   "cell_type": "code",
   "execution_count": null,
   "metadata": {},
   "outputs": [],
   "source": []
  }
 ]
}